{
 "cells": [
  {
   "cell_type": "markdown",
   "id": "e48bbe56",
   "metadata": {},
   "source": [
    "# Eat Safe, Love"
   ]
  },
  {
   "cell_type": "markdown",
   "id": "561cf0a8",
   "metadata": {},
   "source": [
    "## Part 1: Database and Jupyter Notebook Set Up"
   ]
  },
  {
   "cell_type": "markdown",
   "id": "aebcf7f3",
   "metadata": {},
   "source": [
    "Import the data provided in the `establishments.json` file from your Terminal. Name the database `uk_food` and the collection `establishments`.\n",
    "\n",
    "Within this markdown cell, copy the line of text you used to import the data from your Terminal. This way, future analysts will be able to repeat your process.\n",
    "\n",
    "Import the dataset with mongoimport --type json -d uk_food  -c establishments --drop --jsonArray establishments.json"
   ]
  },
  {
   "cell_type": "code",
   "execution_count": 1,
   "id": "40559b30",
   "metadata": {},
   "outputs": [],
   "source": [
    "# Import dependencies\n",
    "from pymongo import MongoClient\n",
    "from pprint import pprint"
   ]
  },
  {
   "cell_type": "code",
   "execution_count": 2,
   "id": "537739ba",
   "metadata": {},
   "outputs": [],
   "source": [
    "# Create an instance of MongoClient\n",
    "mongo = MongoClient(port=27017)"
   ]
  },
  {
   "cell_type": "code",
   "execution_count": 4,
   "id": "db5d59e6",
   "metadata": {},
   "outputs": [
    {
     "data": {
      "text/plain": [
       "['admin',\n",
       " 'autosaurus',\n",
       " 'classDB',\n",
       " 'config',\n",
       " 'epa',\n",
       " 'fruits_db',\n",
       " 'gardenDB',\n",
       " 'local',\n",
       " 'met',\n",
       " 'petsitly_marketing',\n",
       " 'travel_db',\n",
       " 'uk_food']"
      ]
     },
     "execution_count": 4,
     "metadata": {},
     "output_type": "execute_result"
    }
   ],
   "source": [
    "# confirm that our new database was created\n",
    "mongo.list_database_names()"
   ]
  },
  {
   "cell_type": "code",
   "execution_count": 5,
   "id": "822857fe",
   "metadata": {},
   "outputs": [],
   "source": [
    "# assign the uk_food database to a variable name\n",
    "uk_food = mongo['uk_food']"
   ]
  },
  {
   "cell_type": "code",
   "execution_count": 6,
   "id": "d9317f98",
   "metadata": {},
   "outputs": [
    {
     "data": {
      "text/plain": [
       "['establishments']"
      ]
     },
     "execution_count": 6,
     "metadata": {},
     "output_type": "execute_result"
    }
   ],
   "source": [
    "# review the collections in our new database\n",
    "uk_food.list_collection_names()"
   ]
  },
  {
   "cell_type": "code",
   "execution_count": 9,
   "id": "eee9ae4c",
   "metadata": {},
   "outputs": [
    {
     "data": {
      "text/plain": [
       "{'_id': ObjectId('641876098b6479aa2130f8de'),\n",
       " 'FHRSID': 254250,\n",
       " 'ChangesByServerID': 0,\n",
       " 'LocalAuthorityBusinessID': 'PI/000066174',\n",
       " 'BusinessName': 'The Pines Calyx',\n",
       " 'BusinessType': 'Other catering premises',\n",
       " 'BusinessTypeID': 7841,\n",
       " 'AddressLine1': 'The Pines Garden',\n",
       " 'AddressLine2': 'Beach Road',\n",
       " 'AddressLine3': 'St Margarets Bay',\n",
       " 'AddressLine4': 'Kent',\n",
       " 'PostCode': 'CT15 6DZ',\n",
       " 'Phone': '',\n",
       " 'RatingValue': '5',\n",
       " 'RatingKey': 'fhrs_5_en-gb',\n",
       " 'RatingDate': '2021-08-17T00:00:00',\n",
       " 'LocalAuthorityCode': '182',\n",
       " 'LocalAuthorityName': 'Dover',\n",
       " 'LocalAuthorityWebSite': 'http://www.dover.gov.uk/',\n",
       " 'LocalAuthorityEmailAddress': 'publicprotection@dover.gov.uk',\n",
       " 'scores': {'Hygiene': 0, 'Structural': 0, 'ConfidenceInManagement': 0},\n",
       " 'SchemeType': 'FHRS',\n",
       " 'geocode': {'longitude': '1.383298', 'latitude': '51.148133'},\n",
       " 'RightToReply': '',\n",
       " 'Distance': 4587.362402580997,\n",
       " 'NewRatingPending': False,\n",
       " 'meta': {'dataSource': None,\n",
       "  'extractDate': '0001-01-01T00:00:00',\n",
       "  'itemCount': 0,\n",
       "  'returncode': None,\n",
       "  'totalCount': 0,\n",
       "  'totalPages': 0,\n",
       "  'pageSize': 0,\n",
       "  'pageNumber': 0},\n",
       " 'links': [{'rel': 'self',\n",
       "   'href': 'https://api.ratings.food.gov.uk/establishments/254250'}]}"
      ]
     },
     "execution_count": 9,
     "metadata": {},
     "output_type": "execute_result"
    }
   ],
   "source": [
    "# assign the collection to a variable\n",
    "# review a document in the establishments collection\n",
    "establishments = uk_food['establishments']\n",
    "establishments.find_one()"
   ]
  },
  {
   "cell_type": "markdown",
   "id": "9aa4c87e",
   "metadata": {},
   "source": [
    "## Part 2: Update the Database"
   ]
  },
  {
   "cell_type": "markdown",
   "id": "f005b3b9",
   "metadata": {},
   "source": [
    "1. An exciting new halal restaurant just opened in Greenwich, but hasn't been rated yet. The magazine has asked you to include it in your analysis. Add the following restaurant \"Penang Flavours\" to the database."
   ]
  },
  {
   "cell_type": "code",
   "execution_count": 10,
   "id": "168a29d3",
   "metadata": {},
   "outputs": [],
   "source": [
    "# Create a dictionary for the new restaurant data\n",
    "halal = {\n",
    "    \"BusinessName\":\"Penang Flavours\",\n",
    "    \"BusinessType\":\"Restaurant/Cafe/Canteen\",\n",
    "    \"BusinessTypeID\":\"\",\n",
    "    \"AddressLine1\":\"Penang Flavours\",\n",
    "    \"AddressLine2\":\"146A Plumstead Rd\",\n",
    "    \"AddressLine3\":\"London\",\n",
    "    \"AddressLine4\":\"\",\n",
    "    \"PostCode\":\"SE18 7DY\",\n",
    "    \"Phone\":\"\",\n",
    "    \"LocalAuthorityCode\":\"511\",\n",
    "    \"LocalAuthorityName\":\"Greenwich\",\n",
    "    \"LocalAuthorityWebSite\":\"http://www.royalgreenwich.gov.uk\",\n",
    "    \"LocalAuthorityEmailAddress\":\"health@royalgreenwich.gov.uk\",\n",
    "    \"scores\":{\n",
    "        \"Hygiene\":\"\",\n",
    "        \"Structural\":\"\",\n",
    "        \"ConfidenceInManagement\":\"\"\n",
    "    },\n",
    "    \"SchemeType\":\"FHRS\",\n",
    "    \"geocode\":{\n",
    "        \"longitude\":\"0.08384000\",\n",
    "        \"latitude\":\"51.49014200\"\n",
    "    },\n",
    "    \"RightToReply\":\"\",\n",
    "    \"Distance\":4623.9723280747176,\n",
    "    \"NewRatingPending\":True\n",
    "}"
   ]
  },
  {
   "cell_type": "code",
   "execution_count": 11,
   "id": "437a2cf3",
   "metadata": {},
   "outputs": [
    {
     "data": {
      "text/plain": [
       "<pymongo.results.InsertOneResult at 0x7f8803de1fa0>"
      ]
     },
     "execution_count": 11,
     "metadata": {},
     "output_type": "execute_result"
    }
   ],
   "source": [
    "# Insert the new restaurant into the collection\n",
    "establishments.insert_one(halal)"
   ]
  },
  {
   "cell_type": "code",
   "execution_count": 12,
   "id": "046de6d1",
   "metadata": {},
   "outputs": [
    {
     "data": {
      "text/plain": [
       "{'_id': ObjectId('64187768fdba382d03c58803'),\n",
       " 'BusinessName': 'Penang Flavours',\n",
       " 'BusinessType': 'Restaurant/Cafe/Canteen',\n",
       " 'BusinessTypeID': '',\n",
       " 'AddressLine1': 'Penang Flavours',\n",
       " 'AddressLine2': '146A Plumstead Rd',\n",
       " 'AddressLine3': 'London',\n",
       " 'AddressLine4': '',\n",
       " 'PostCode': 'SE18 7DY',\n",
       " 'Phone': '',\n",
       " 'LocalAuthorityCode': '511',\n",
       " 'LocalAuthorityName': 'Greenwich',\n",
       " 'LocalAuthorityWebSite': 'http://www.royalgreenwich.gov.uk',\n",
       " 'LocalAuthorityEmailAddress': 'health@royalgreenwich.gov.uk',\n",
       " 'scores': {'Hygiene': '', 'Structural': '', 'ConfidenceInManagement': ''},\n",
       " 'SchemeType': 'FHRS',\n",
       " 'geocode': {'longitude': '0.08384000', 'latitude': '51.49014200'},\n",
       " 'RightToReply': '',\n",
       " 'Distance': 4623.972328074718,\n",
       " 'NewRatingPending': True}"
      ]
     },
     "execution_count": 12,
     "metadata": {},
     "output_type": "execute_result"
    }
   ],
   "source": [
    "# Check that the new restaurant was inserted\n",
    "establishments.find_one({\"BusinessName\":\"Penang Flavours\"})"
   ]
  },
  {
   "cell_type": "markdown",
   "id": "49ffcacc",
   "metadata": {},
   "source": [
    "2. Find the BusinessTypeID for \"Restaurant/Cafe/Canteen\" and return only the `BusinessTypeID` and `BusinessType` fields."
   ]
  },
  {
   "cell_type": "code",
   "execution_count": 20,
   "id": "e5599f3b",
   "metadata": {},
   "outputs": [
    {
     "data": {
      "text/plain": [
       "{'_id': ObjectId('641876098b6479aa2130f8e0'),\n",
       " 'BusinessType': 'Restaurant/Cafe/Canteen',\n",
       " 'BusinessTypeID': 1}"
      ]
     },
     "execution_count": 20,
     "metadata": {},
     "output_type": "execute_result"
    }
   ],
   "source": [
    "# Find the BusinessTypeID for \"Restaurant/Cafe/Canteen\" and return only the BusinessTypeID and BusinessType fields\n",
    "establishments.find_one({'BusinessType':'Restaurant/Cafe/Canteen'},{'BusinessTypeID':1,'BusinessType':1})"
   ]
  },
  {
   "cell_type": "markdown",
   "id": "ddf033f3",
   "metadata": {},
   "source": [
    "3. Update the new restaurant with the `BusinessTypeID` you found."
   ]
  },
  {
   "cell_type": "code",
   "execution_count": 21,
   "id": "508d3d42",
   "metadata": {},
   "outputs": [
    {
     "data": {
      "text/plain": [
       "<pymongo.results.UpdateResult at 0x7f8803de15f0>"
      ]
     },
     "execution_count": 21,
     "metadata": {},
     "output_type": "execute_result"
    }
   ],
   "source": [
    "# Update the new restaurant with the correct BusinessTypeID\n",
    "establishments.update_one({\"BusinessName\":\"Penang Flavours\"} , {'$set' : {'BusinessTypeID':1}})"
   ]
  },
  {
   "cell_type": "code",
   "execution_count": 22,
   "id": "61cfd800",
   "metadata": {},
   "outputs": [
    {
     "data": {
      "text/plain": [
       "{'_id': ObjectId('64187768fdba382d03c58803'),\n",
       " 'BusinessName': 'Penang Flavours',\n",
       " 'BusinessType': 'Restaurant/Cafe/Canteen',\n",
       " 'BusinessTypeID': 1,\n",
       " 'AddressLine1': 'Penang Flavours',\n",
       " 'AddressLine2': '146A Plumstead Rd',\n",
       " 'AddressLine3': 'London',\n",
       " 'AddressLine4': '',\n",
       " 'PostCode': 'SE18 7DY',\n",
       " 'Phone': '',\n",
       " 'LocalAuthorityCode': '511',\n",
       " 'LocalAuthorityName': 'Greenwich',\n",
       " 'LocalAuthorityWebSite': 'http://www.royalgreenwich.gov.uk',\n",
       " 'LocalAuthorityEmailAddress': 'health@royalgreenwich.gov.uk',\n",
       " 'scores': {'Hygiene': '', 'Structural': '', 'ConfidenceInManagement': ''},\n",
       " 'SchemeType': 'FHRS',\n",
       " 'geocode': {'longitude': '0.08384000', 'latitude': '51.49014200'},\n",
       " 'RightToReply': '',\n",
       " 'Distance': 4623.972328074718,\n",
       " 'NewRatingPending': True}"
      ]
     },
     "execution_count": 22,
     "metadata": {},
     "output_type": "execute_result"
    }
   ],
   "source": [
    "# Confirm that the new restaurant was updated\n",
    "establishments.find_one({\"BusinessName\":\"Penang Flavours\"})"
   ]
  },
  {
   "cell_type": "markdown",
   "id": "cbd2a0b4",
   "metadata": {},
   "source": [
    "4. The magazine is not interested in any establishments in Dover, so check how many documents contain the Dover Local Authority. Then, remove any establishments within the Dover Local Authority from the database, and check the number of documents to ensure they were deleted."
   ]
  },
  {
   "cell_type": "code",
   "execution_count": 23,
   "id": "ae3c3891",
   "metadata": {},
   "outputs": [
    {
     "data": {
      "text/plain": [
       "994"
      ]
     },
     "execution_count": 23,
     "metadata": {},
     "output_type": "execute_result"
    }
   ],
   "source": [
    "# Find how many documents have LocalAuthorityName as \"Dover\"\n",
    "establishments.count_documents({'LocalAuthorityName':'Dover'})"
   ]
  },
  {
   "cell_type": "code",
   "execution_count": 24,
   "id": "00bd6222",
   "metadata": {},
   "outputs": [
    {
     "data": {
      "text/plain": [
       "<pymongo.results.DeleteResult at 0x7f8803d87e60>"
      ]
     },
     "execution_count": 24,
     "metadata": {},
     "output_type": "execute_result"
    }
   ],
   "source": [
    "# Delete all documents where LocalAuthorityName is \"Dover\"\n",
    "establishments.delete_many({'LocalAuthorityName':'Dover'})"
   ]
  },
  {
   "cell_type": "code",
   "execution_count": 36,
   "id": "b6b59bd7",
   "metadata": {},
   "outputs": [
    {
     "name": "stdout",
     "output_type": "stream",
     "text": [
      "no establishments in dover\n"
     ]
    }
   ],
   "source": [
    "# Check if any remaining documents include Dover\n",
    "dover = establishments.find_one({'LocalAuthorityName':'Dover'})\n",
    "if dover is None:\n",
    "    print(\"no establishments in dover\")"
   ]
  },
  {
   "cell_type": "code",
   "execution_count": 32,
   "id": "0d401f10",
   "metadata": {},
   "outputs": [
    {
     "data": {
      "text/plain": [
       "{'_id': ObjectId('641876098b6479aa2130fbc5'),\n",
       " 'FHRSID': 1043695,\n",
       " 'ChangesByServerID': 0,\n",
       " 'LocalAuthorityBusinessID': 'PI/000073616',\n",
       " 'BusinessName': 'The Pavilion',\n",
       " 'BusinessType': 'Restaurant/Cafe/Canteen',\n",
       " 'BusinessTypeID': 1,\n",
       " 'AddressLine1': 'East Cliff Pavilion',\n",
       " 'AddressLine2': 'Wear Bay Road',\n",
       " 'AddressLine3': 'Folkestone',\n",
       " 'AddressLine4': 'Kent',\n",
       " 'PostCode': 'CT19 6BL',\n",
       " 'Phone': '',\n",
       " 'RatingValue': '5',\n",
       " 'RatingKey': 'fhrs_5_en-gb',\n",
       " 'RatingDate': '2018-04-04T00:00:00',\n",
       " 'LocalAuthorityCode': '188',\n",
       " 'LocalAuthorityName': 'Folkestone and Hythe',\n",
       " 'LocalAuthorityWebSite': 'http://www.folkestone-hythe.gov.uk',\n",
       " 'LocalAuthorityEmailAddress': 'foodteam@folkestone-hythe.gov.uk',\n",
       " 'scores': {'Hygiene': 5, 'Structural': 5, 'ConfidenceInManagement': 5},\n",
       " 'SchemeType': 'FHRS',\n",
       " 'geocode': {'longitude': '1.195625', 'latitude': '51.083812'},\n",
       " 'RightToReply': '',\n",
       " 'Distance': 4591.765489457773,\n",
       " 'NewRatingPending': False,\n",
       " 'meta': {'dataSource': None,\n",
       "  'extractDate': '0001-01-01T00:00:00',\n",
       "  'itemCount': 0,\n",
       "  'returncode': None,\n",
       "  'totalCount': 0,\n",
       "  'totalPages': 0,\n",
       "  'pageSize': 0,\n",
       "  'pageNumber': 0},\n",
       " 'links': [{'rel': 'self',\n",
       "   'href': 'https://api.ratings.food.gov.uk/establishments/1043695'}]}"
      ]
     },
     "execution_count": 32,
     "metadata": {},
     "output_type": "execute_result"
    }
   ],
   "source": [
    "# Check that other documents remain with 'find_one'\n",
    "establishments.find_one()"
   ]
  },
  {
   "cell_type": "markdown",
   "id": "33dcb3a3",
   "metadata": {},
   "source": [
    "5. Some of the number values are stored as strings, when they should be stored as numbers. Use `update_many` to convert `latitude` and `longitude` to decimal numbers."
   ]
  },
  {
   "cell_type": "code",
   "execution_count": 37,
   "id": "68aea2a5",
   "metadata": {},
   "outputs": [
    {
     "data": {
      "text/plain": [
       "<pymongo.results.UpdateResult at 0x7f88039a1dc0>"
      ]
     },
     "execution_count": 37,
     "metadata": {},
     "output_type": "execute_result"
    }
   ],
   "source": [
    "# Change the data type from String to Decimal for longitude\n",
    "establishments.update_many({}, [{'$set': {'geocode.latitude' : {'$toDouble': '$geocode.latitude'}}}])"
   ]
  },
  {
   "cell_type": "code",
   "execution_count": 38,
   "id": "1dbb4ff5",
   "metadata": {},
   "outputs": [
    {
     "data": {
      "text/plain": [
       "<pymongo.results.UpdateResult at 0x7f8803e14730>"
      ]
     },
     "execution_count": 38,
     "metadata": {},
     "output_type": "execute_result"
    }
   ],
   "source": [
    "# Change the data type from String to Decimal for latitude\n",
    "establishments.update_many({}, [{'$set': {'geocode.longitude' : {'$toDouble': '$geocode.longitude'}}}])"
   ]
  },
  {
   "cell_type": "code",
   "execution_count": 39,
   "id": "156380c5",
   "metadata": {},
   "outputs": [
    {
     "data": {
      "text/plain": [
       "{'_id': ObjectId('641876098b6479aa2130fbc5'),\n",
       " 'FHRSID': 1043695,\n",
       " 'ChangesByServerID': 0,\n",
       " 'LocalAuthorityBusinessID': 'PI/000073616',\n",
       " 'BusinessName': 'The Pavilion',\n",
       " 'BusinessType': 'Restaurant/Cafe/Canteen',\n",
       " 'BusinessTypeID': 1,\n",
       " 'AddressLine1': 'East Cliff Pavilion',\n",
       " 'AddressLine2': 'Wear Bay Road',\n",
       " 'AddressLine3': 'Folkestone',\n",
       " 'AddressLine4': 'Kent',\n",
       " 'PostCode': 'CT19 6BL',\n",
       " 'Phone': '',\n",
       " 'RatingValue': '5',\n",
       " 'RatingKey': 'fhrs_5_en-gb',\n",
       " 'RatingDate': '2018-04-04T00:00:00',\n",
       " 'LocalAuthorityCode': '188',\n",
       " 'LocalAuthorityName': 'Folkestone and Hythe',\n",
       " 'LocalAuthorityWebSite': 'http://www.folkestone-hythe.gov.uk',\n",
       " 'LocalAuthorityEmailAddress': 'foodteam@folkestone-hythe.gov.uk',\n",
       " 'scores': {'Hygiene': 5, 'Structural': 5, 'ConfidenceInManagement': 5},\n",
       " 'SchemeType': 'FHRS',\n",
       " 'geocode': {'longitude': 1.195625, 'latitude': 51.083812},\n",
       " 'RightToReply': '',\n",
       " 'Distance': 4591.765489457773,\n",
       " 'NewRatingPending': False,\n",
       " 'meta': {'dataSource': None,\n",
       "  'extractDate': '0001-01-01T00:00:00',\n",
       "  'itemCount': 0,\n",
       "  'returncode': None,\n",
       "  'totalCount': 0,\n",
       "  'totalPages': 0,\n",
       "  'pageSize': 0,\n",
       "  'pageNumber': 0},\n",
       " 'links': [{'rel': 'self',\n",
       "   'href': 'https://api.ratings.food.gov.uk/establishments/1043695'}]}"
      ]
     },
     "execution_count": 39,
     "metadata": {},
     "output_type": "execute_result"
    }
   ],
   "source": [
    "# Check that the coordinates are now numbers\n",
    "establishments.find_one()"
   ]
  },
  {
   "cell_type": "code",
   "execution_count": null,
   "id": "a72b31ba",
   "metadata": {},
   "outputs": [],
   "source": []
  }
 ],
 "metadata": {
  "kernelspec": {
   "display_name": "Python 3 (ipykernel)",
   "language": "python",
   "name": "python3"
  },
  "language_info": {
   "codemirror_mode": {
    "name": "ipython",
    "version": 3
   },
   "file_extension": ".py",
   "mimetype": "text/x-python",
   "name": "python",
   "nbconvert_exporter": "python",
   "pygments_lexer": "ipython3",
   "version": "3.7.7"
  }
 },
 "nbformat": 4,
 "nbformat_minor": 5
}
